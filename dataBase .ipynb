{
 "cells": [
  {
   "cell_type": "markdown",
   "id": "cacb48c8",
   "metadata": {},
   "source": [
    "# Dimentionale Reducing - Example \n",
    "## Present by: \n",
    "###     Sarah Guila Soudry\n"
   ]
  },
  {
   "cell_type": "code",
   "execution_count": 13,
   "id": "8da29525",
   "metadata": {},
   "outputs": [],
   "source": [
    "import pandas as pd\n",
    "df_pca_data = pd.read_csv('pima-indians-diabetes.csv'  )\n"
   ]
  },
  {
   "cell_type": "code",
   "execution_count": 14,
   "id": "a6e92a45",
   "metadata": {
    "scrolled": false
   },
   "outputs": [
    {
     "data": {
      "text/html": [
       "<div>\n",
       "<style scoped>\n",
       "    .dataframe tbody tr th:only-of-type {\n",
       "        vertical-align: middle;\n",
       "    }\n",
       "\n",
       "    .dataframe tbody tr th {\n",
       "        vertical-align: top;\n",
       "    }\n",
       "\n",
       "    .dataframe thead th {\n",
       "        text-align: right;\n",
       "    }\n",
       "</style>\n",
       "<table border=\"1\" class=\"dataframe\">\n",
       "  <thead>\n",
       "    <tr style=\"text-align: right;\">\n",
       "      <th></th>\n",
       "      <th>Number_of_times_pregnant</th>\n",
       "      <th>Plasma_glucose</th>\n",
       "      <th>Diastolic_blood_pressure</th>\n",
       "      <th>Triceps_skin_fold_thickness</th>\n",
       "      <th>2-Hour_serum_insulin</th>\n",
       "      <th>Body_mass _index</th>\n",
       "      <th>Diabetes_pedigree_function</th>\n",
       "      <th>Age</th>\n",
       "      <th>Class_variable</th>\n",
       "    </tr>\n",
       "  </thead>\n",
       "  <tbody>\n",
       "    <tr>\n",
       "      <th>0</th>\n",
       "      <td>1</td>\n",
       "      <td>85</td>\n",
       "      <td>66</td>\n",
       "      <td>29</td>\n",
       "      <td>0</td>\n",
       "      <td>26.6</td>\n",
       "      <td>0.351</td>\n",
       "      <td>31</td>\n",
       "      <td>0</td>\n",
       "    </tr>\n",
       "    <tr>\n",
       "      <th>1</th>\n",
       "      <td>8</td>\n",
       "      <td>183</td>\n",
       "      <td>64</td>\n",
       "      <td>0</td>\n",
       "      <td>0</td>\n",
       "      <td>23.3</td>\n",
       "      <td>0.672</td>\n",
       "      <td>32</td>\n",
       "      <td>1</td>\n",
       "    </tr>\n",
       "    <tr>\n",
       "      <th>2</th>\n",
       "      <td>1</td>\n",
       "      <td>89</td>\n",
       "      <td>66</td>\n",
       "      <td>23</td>\n",
       "      <td>94</td>\n",
       "      <td>28.1</td>\n",
       "      <td>0.167</td>\n",
       "      <td>21</td>\n",
       "      <td>0</td>\n",
       "    </tr>\n",
       "    <tr>\n",
       "      <th>3</th>\n",
       "      <td>0</td>\n",
       "      <td>137</td>\n",
       "      <td>40</td>\n",
       "      <td>35</td>\n",
       "      <td>168</td>\n",
       "      <td>43.1</td>\n",
       "      <td>2.288</td>\n",
       "      <td>33</td>\n",
       "      <td>1</td>\n",
       "    </tr>\n",
       "    <tr>\n",
       "      <th>4</th>\n",
       "      <td>5</td>\n",
       "      <td>116</td>\n",
       "      <td>74</td>\n",
       "      <td>0</td>\n",
       "      <td>0</td>\n",
       "      <td>25.6</td>\n",
       "      <td>0.201</td>\n",
       "      <td>30</td>\n",
       "      <td>0</td>\n",
       "    </tr>\n",
       "  </tbody>\n",
       "</table>\n",
       "</div>"
      ],
      "text/plain": [
       "   Number_of_times_pregnant  Plasma_glucose  Diastolic_blood_pressure  \\\n",
       "0                         1              85                        66   \n",
       "1                         8             183                        64   \n",
       "2                         1              89                        66   \n",
       "3                         0             137                        40   \n",
       "4                         5             116                        74   \n",
       "\n",
       "   Triceps_skin_fold_thickness  2-Hour_serum_insulin  Body_mass _index  \\\n",
       "0                           29                     0              26.6   \n",
       "1                            0                     0              23.3   \n",
       "2                           23                    94              28.1   \n",
       "3                           35                   168              43.1   \n",
       "4                            0                     0              25.6   \n",
       "\n",
       "   Diabetes_pedigree_function  Age  Class_variable  \n",
       "0                       0.351   31               0  \n",
       "1                       0.672   32               1  \n",
       "2                       0.167   21               0  \n",
       "3                       2.288   33               1  \n",
       "4                       0.201   30               0  "
      ]
     },
     "execution_count": 14,
     "metadata": {},
     "output_type": "execute_result"
    }
   ],
   "source": [
    "df_pca_data.head()"
   ]
  },
  {
   "cell_type": "code",
   "execution_count": 3,
   "id": "94ae2679",
   "metadata": {},
   "outputs": [
    {
     "data": {
      "text/plain": [
       "PCA()"
      ]
     },
     "execution_count": 3,
     "metadata": {},
     "output_type": "execute_result"
    }
   ],
   "source": [
    "from sklearn.decomposition import PCA\n",
    "pca = PCA()\n",
    "pca.fit(df_pca_data)\n",
    "\n"
   ]
  },
  {
   "cell_type": "code",
   "execution_count": 4,
   "id": "2c8d2a4f",
   "metadata": {},
   "outputs": [
    {
     "data": {
      "text/plain": [
       "array([1.34666527e+04, 9.32334565e+02, 3.91018802e+02, 1.98122123e+02,\n",
       "       1.12481960e+02, 4.58814387e+01, 7.77304587e+00, 1.64390593e-01,\n",
       "       9.92680540e-02])"
      ]
     },
     "execution_count": 4,
     "metadata": {},
     "output_type": "execute_result"
    }
   ],
   "source": [
    "pca.explained_variance_"
   ]
  },
  {
   "cell_type": "code",
   "execution_count": 5,
   "id": "070477c4",
   "metadata": {},
   "outputs": [
    {
     "data": {
      "text/plain": [
       "array([[-2.00648943e-03,  9.80844747e-02,  1.61268746e-02,\n",
       "         6.08979154e-02,  9.93074726e-01,  1.40318620e-02,\n",
       "         5.38630824e-04, -3.44013318e-03,  5.90582203e-04],\n",
       "       [-2.25782885e-02, -9.72201176e-01, -1.41784546e-01,\n",
       "         5.92402817e-02,  9.48302452e-02, -4.68539925e-02,\n",
       "        -8.07463538e-04, -1.39518049e-01, -6.98676533e-03],\n",
       "       [-2.24492157e-02,  1.42866718e-01, -9.22882543e-01,\n",
       "        -3.06121041e-01,  2.10401366e-02, -1.32403986e-01,\n",
       "        -6.35218497e-04, -1.25255125e-01,  3.17642807e-04],\n",
       "       [-4.95241845e-02,  1.20978379e-01, -2.61012640e-01,\n",
       "         8.83402578e-01, -6.57718985e-02,  1.93322499e-01,\n",
       "         2.68467462e-03, -3.04418286e-01,  2.57720777e-03],\n",
       "       [ 1.51607781e-01, -8.67454989e-02, -2.32628300e-01,\n",
       "         2.63287292e-01, -6.44946679e-04,  2.34946416e-02,\n",
       "         1.63627260e-03,  9.19490038e-01,  6.09538647e-03],\n",
       "       [-4.83969307e-03,  5.09448431e-02,  7.53259085e-02,\n",
       "         2.22136778e-01, -6.21306031e-03, -9.70539818e-01,\n",
       "        -2.03918121e-03, -1.40594776e-02, -1.32095588e-02],\n",
       "       [ 9.86448123e-01,  7.36423257e-04, -1.15092628e-03,\n",
       "        -5.04790691e-04,  1.44027564e-03, -2.98690823e-03,\n",
       "        -6.29458576e-03, -1.62764985e-01,  1.93628710e-02],\n",
       "       [-1.80847957e-02, -6.04370376e-03,  2.45595649e-03,\n",
       "        -1.05462878e-03,  6.42400637e-05, -1.39462479e-02,\n",
       "         2.39241026e-01, -3.16893568e-03,  9.70663926e-01],\n",
       "       [ 1.06902582e-02,  6.43173945e-04, -7.13067514e-05,\n",
       "        -2.34802153e-03, -2.94876124e-04,  6.71168348e-04,\n",
       "         9.70931883e-01, -1.20781698e-03, -2.39100542e-01]])"
      ]
     },
     "execution_count": 5,
     "metadata": {},
     "output_type": "execute_result"
    }
   ],
   "source": [
    "pca.components_"
   ]
  },
  {
   "cell_type": "code",
   "execution_count": 6,
   "id": "26746ec5",
   "metadata": {},
   "outputs": [
    {
     "data": {
      "text/plain": [
       "array([1.34666527e+04, 9.32334565e+02, 3.91018802e+02, 1.98122123e+02,\n",
       "       1.12481960e+02, 4.58814387e+01, 7.77304587e+00, 1.64390593e-01,\n",
       "       9.92680540e-02])"
      ]
     },
     "execution_count": 6,
     "metadata": {},
     "output_type": "execute_result"
    }
   ],
   "source": [
    "pca.explained_variance_"
   ]
  },
  {
   "cell_type": "code",
   "execution_count": 7,
   "id": "da46d6e1",
   "metadata": {},
   "outputs": [
    {
     "data": {
      "text/plain": [
       "Text(0, 0.5, 'Cumulative Explained Variance')"
      ]
     },
     "execution_count": 7,
     "metadata": {},
     "output_type": "execute_result"
    },
    {
     "data": {
      "image/png": "[encoded data removed]",
      "text/plain": [
       "<Figure size 864x648 with 1 Axes>"
      ]
     },
     "metadata": {
      "needs_background": "light"
     },
     "output_type": "display_data"
    }
   ],
   "source": [
    "import matplotlib.pyplot as plt\n",
    "plt.figure(figsize = (12, 9))\n",
    "plt.plot(range(1,10),pca.explained_variance_ratio_.cumsum(), marker = 'o' , linestyle = '--')\n",
    "plt.title('Explainde variance by component')\n",
    "plt.xlabel('Number Of Component')\n",
    "plt.ylabel('Cumulative Explained Variance')"
   ]
  },
  {
   "cell_type": "code",
   "execution_count": 8,
   "id": "45a6b060",
   "metadata": {},
   "outputs": [
    {
     "data": {
      "text/plain": [
       "PCA(n_components=2)"
      ]
     },
     "execution_count": 8,
     "metadata": {},
     "output_type": "execute_result"
    }
   ],
   "source": [
    "pca = PCA(n_components = 2)\n",
    "pca.fit(df_pca_data)"
   ]
  },
  {
   "cell_type": "code",
   "execution_count": 9,
   "id": "2250c391",
   "metadata": {},
   "outputs": [
    {
     "data": {
      "text/plain": [
       "array([[-2.00648943e-03,  9.80844747e-02,  1.61268746e-02,\n",
       "         6.08979154e-02,  9.93074726e-01,  1.40318620e-02,\n",
       "         5.38630824e-04, -3.44013318e-03,  5.90582203e-04],\n",
       "       [-2.25782885e-02, -9.72201176e-01, -1.41784546e-01,\n",
       "         5.92402817e-02,  9.48302452e-02, -4.68539925e-02,\n",
       "        -8.07463538e-04, -1.39518049e-01, -6.98676533e-03]])"
      ]
     },
     "execution_count": 9,
     "metadata": {},
     "output_type": "execute_result"
    }
   ],
   "source": [
    "pca.components_"
   ]
  },
  {
   "cell_type": "code",
   "execution_count": 10,
   "id": "d7765b08",
   "metadata": {},
   "outputs": [
    {
     "data": {
      "text/plain": [
       "array([0.88862236, 0.06152185])"
      ]
     },
     "execution_count": 10,
     "metadata": {},
     "output_type": "execute_result"
    }
   ],
   "source": [
    "pca.explained_variance_ratio_"
   ]
  },
  {
   "cell_type": "code",
   "execution_count": 11,
   "id": "686615c1",
   "metadata": {},
   "outputs": [
    {
     "data": {
      "text/plain": [
       "Text(0, 0.5, 'Cumulative Explained Variance')"
      ]
     },
     "execution_count": 11,
     "metadata": {},
     "output_type": "execute_result"
    },
    {
     "data": {
      "image/png": "[encoded data removed]",
      "text/plain": [
       "<Figure size 864x648 with 1 Axes>"
      ]
     },
     "metadata": {
      "needs_background": "light"
     },
     "output_type": "display_data"
    }
   ],
   "source": [
    "import matplotlib.pyplot as plt\n",
    "plt.figure(figsize = (12, 9))\n",
    "plt.plot(range(1,3),pca.explained_variance_ratio_.cumsum(), marker = 'o' , linestyle = '--')\n",
    "plt.title('Explainde variance by component')\n",
    "plt.xlabel('Number Of Component')\n",
    "plt.ylabel('Cumulative Explained Variance')"
   ]
  }
 ],
 "metadata": {
  "kernelspec": {
   "display_name": "Python 3",
   "language": "python",
   "name": "python3"
  },
  "language_info": {
   "codemirror_mode": {
    "name": "ipython",
    "version": 3
   },
   "file_extension": ".py",
   "mimetype": "text/x-python",
   "name": "python",
   "nbconvert_exporter": "python",
   "pygments_lexer": "ipython3",
   "version": "3.8.8"
  }
 },
 "nbformat": 4,
 "nbformat_minor": 5
}
